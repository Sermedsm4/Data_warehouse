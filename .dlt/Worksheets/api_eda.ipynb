{
 "cells": [
  {
   "cell_type": "code",
   "execution_count": null,
   "metadata": {},
   "outputs": [],
   "source": [
    "import requests\n",
    "import json\n",
    "\n",
    "url = 'https://jobsearch.api.jobtechdev.se'\n",
    "url_for_search = f\"{url}/search\"\n",
    "\n",
    "\n",
    "def _get_ads(params):\n",
    "    headers = {'accept': 'application/json'}\n",
    "    response = requests.get(url_for_search, headers=headers, params=params)\n",
    "    response.raise_for_status()  # check for http errors\n",
    "    return json.loads(response.content.decode('utf8'))\n",
    "\n",
    "\n",
    "def example_search_return_number_of_hits(query):\n",
    "    # limit: 0 means no ads, just a value of how many ads were found.\n",
    "    search_params = {'q': query, 'limit': 0}\n",
    "    json_response = _get_ads(search_params)\n",
    "    number_of_hits = json_response['total']['value']\n",
    "    print(f\"\\nNumber of hits = {number_of_hits}\")\n",
    "\n",
    "\n",
    "def example_search_loop_through_hits(query):\n",
    "    # limit = 100 is the max number of hits that can be returned.\n",
    "    # If there are more (which you find with ['total']['value'] in the json response)\n",
    "    # you have to use offset and multiple requests to get all ads.\n",
    "    search_params = {'q': query, 'limit': 100}\n",
    "    json_response = _get_ads(search_params)\n",
    "    hits = json_response['hits']\n",
    "    for hit in hits:\n",
    "        print(f\"{hit['headline']}, {hit['employer']['name']}\")\n",
    "\n",
    "\n",
    "query = 'lärare uppsala'\n",
    "example_search_loop_through_hits(query)"
   ]
  }
 ],
 "metadata": {
  "language_info": {
   "name": "python"
  }
 },
 "nbformat": 4,
 "nbformat_minor": 2
}
